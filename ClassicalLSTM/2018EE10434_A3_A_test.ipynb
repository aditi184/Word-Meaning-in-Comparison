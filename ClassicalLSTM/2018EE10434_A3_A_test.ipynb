{
  "nbformat": 4,
  "nbformat_minor": 0,
  "metadata": {
    "colab": {
      "name": "2018EE10434_A3_A_test.ipynb",
      "provenance": [],
      "collapsed_sections": []
    },
    "kernelspec": {
      "name": "python3",
      "display_name": "Python 3"
    },
    "language_info": {
      "name": "python"
    }
  },
  "cells": [
    {
      "cell_type": "markdown",
      "metadata": {
        "id": "JSkHozvq7gGh"
      },
      "source": [
        "Make a copy of this notebook and rename using your USERID in the following format, 2017CSZ8058\n",
        "\n",
        "Give editor access to keshavkolluru@gmail.com, vishalsaley114@gmail.com and kartikeya.badola@gmail.com\n"
      ]
    },
    {
      "cell_type": "code",
      "metadata": {
        "id": "sPmKrdbC48JU",
        "colab": {
          "base_uri": "https://localhost:8080/"
        },
        "outputId": "a616ec2c-72e3-4a67-bffd-410c90bd026e"
      },
      "source": [
        "## DONT CHANGE THIS CELL \n",
        "# this is currently the same as dev.data.txt\n",
        "!wget http://www.cse.iitd.ac.in/~mausam/courses/col772/autumn2021/A3/test.data.txt"
      ],
      "execution_count": 1,
      "outputs": [
        {
          "output_type": "stream",
          "name": "stdout",
          "text": [
            "--2021-10-11 14:38:21--  http://www.cse.iitd.ac.in/~mausam/courses/col772/autumn2021/A3/test.data.txt\n",
            "Resolving www.cse.iitd.ac.in (www.cse.iitd.ac.in)... 103.27.9.152\n",
            "Connecting to www.cse.iitd.ac.in (www.cse.iitd.ac.in)|103.27.9.152|:80... connected.\n",
            "HTTP request sent, awaiting response... 301 Moved Permanently\n",
            "Location: https://www.cse.iitd.ac.in/~mausam/courses/col772/autumn2021/A3/test.data.txt [following]\n",
            "--2021-10-11 14:38:21--  https://www.cse.iitd.ac.in/~mausam/courses/col772/autumn2021/A3/test.data.txt\n",
            "Connecting to www.cse.iitd.ac.in (www.cse.iitd.ac.in)|103.27.9.152|:443... connected.\n",
            "HTTP request sent, awaiting response... 200 OK\n",
            "Length: 63639 (62K) [text/plain]\n",
            "Saving to: ‘test.data.txt’\n",
            "\n",
            "test.data.txt       100%[===================>]  62.15K   116KB/s    in 0.5s    \n",
            "\n",
            "2021-10-11 14:38:23 (116 KB/s) - ‘test.data.txt’ saved [63639/63639]\n",
            "\n"
          ]
        }
      ]
    },
    {
      "cell_type": "code",
      "metadata": {
        "id": "xJv-12oi_zKg",
        "colab": {
          "base_uri": "https://localhost:8080/"
        },
        "outputId": "3dfa09ff-5607-4b73-891f-901fe264aa09"
      },
      "source": [
        "## Replace with the right link that contains the zip file uploaded from the training\n",
        "!gdown https://drive.google.com/uc?id=1rsGmoqECZNDPNxcqM6e9IIejhRq-QT4m"
      ],
      "execution_count": 2,
      "outputs": [
        {
          "output_type": "stream",
          "name": "stdout",
          "text": [
            "Downloading...\n",
            "From: https://drive.google.com/uc?id=1rsGmoqECZNDPNxcqM6e9IIejhRq-QT4m\n",
            "To: /content/2018EE10434_A_model.zip\n",
            "100% 25.1M/25.1M [00:00<00:00, 40.8MB/s]\n"
          ]
        }
      ]
    },
    {
      "cell_type": "code",
      "metadata": {
        "id": "Qw4uTjzYBPFp",
        "colab": {
          "base_uri": "https://localhost:8080/"
        },
        "outputId": "dc2e6b28-cd47-49a1-a586-15aaec4e7536"
      },
      "source": [
        "!unzip 2018EE10434_A_model.zip"
      ],
      "execution_count": 3,
      "outputs": [
        {
          "output_type": "stream",
          "name": "stdout",
          "text": [
            "Archive:  2018EE10434_A_model.zip\n",
            "   creating: MODEL/\n",
            "  inflating: MODEL/vocab             \n",
            "  inflating: MODEL/Model.pt          \n"
          ]
        }
      ]
    },
    {
      "cell_type": "code",
      "metadata": {
        "colab": {
          "base_uri": "https://localhost:8080/"
        },
        "id": "9-YNfFGRya-H",
        "outputId": "eb276d90-bcb3-4496-995e-479be2922a8b"
      },
      "source": [
        "!pip install -U torchtext==0.10.0"
      ],
      "execution_count": 4,
      "outputs": [
        {
          "output_type": "stream",
          "name": "stdout",
          "text": [
            "Requirement already satisfied: torchtext==0.10.0 in /usr/local/lib/python3.7/dist-packages (0.10.0)\n",
            "Requirement already satisfied: torch==1.9.0 in /usr/local/lib/python3.7/dist-packages (from torchtext==0.10.0) (1.9.0+cu111)\n",
            "Requirement already satisfied: tqdm in /usr/local/lib/python3.7/dist-packages (from torchtext==0.10.0) (4.62.3)\n",
            "Requirement already satisfied: requests in /usr/local/lib/python3.7/dist-packages (from torchtext==0.10.0) (2.23.0)\n",
            "Requirement already satisfied: numpy in /usr/local/lib/python3.7/dist-packages (from torchtext==0.10.0) (1.19.5)\n",
            "Requirement already satisfied: typing-extensions in /usr/local/lib/python3.7/dist-packages (from torch==1.9.0->torchtext==0.10.0) (3.7.4.3)\n",
            "Requirement already satisfied: urllib3!=1.25.0,!=1.25.1,<1.26,>=1.21.1 in /usr/local/lib/python3.7/dist-packages (from requests->torchtext==0.10.0) (1.24.3)\n",
            "Requirement already satisfied: idna<3,>=2.5 in /usr/local/lib/python3.7/dist-packages (from requests->torchtext==0.10.0) (2.10)\n",
            "Requirement already satisfied: certifi>=2017.4.17 in /usr/local/lib/python3.7/dist-packages (from requests->torchtext==0.10.0) (2021.5.30)\n",
            "Requirement already satisfied: chardet<4,>=3.0.2 in /usr/local/lib/python3.7/dist-packages (from requests->torchtext==0.10.0) (3.0.4)\n"
          ]
        }
      ]
    },
    {
      "cell_type": "code",
      "metadata": {
        "id": "hhMAkuu1AU6B"
      },
      "source": [
        "## Import relevant packages\n",
        "\n",
        "import os\n",
        "\n",
        "import time\n",
        "import datetime\n",
        "\n",
        "import torch\n",
        "import torch.optim as O\n",
        "import torch.nn as nn\n",
        "import torch.nn.functional as F\n",
        "from torch.optim.lr_scheduler import StepLR\n",
        "\n",
        "import logging\n",
        "from argparse import ArgumentParser\n",
        "\n",
        "from pdb import set_trace\n",
        "import pandas as pd\n",
        "from torch.utils.data import Dataset\n",
        "from torchtext.legacy.data import Field, TabularDataset, BucketIterator, LabelField\n",
        "from torchtext.data.utils import get_tokenizer\n",
        "import spacy\n",
        "# import torch\n",
        "torch.manual_seed(4)\n",
        "import random\n",
        "random.seed(4)\n",
        "import numpy as np\n",
        "np.random.seed(4)\n",
        "import torchtext\n",
        "import dill\n",
        "\n",
        "device = torch.device('cuda' if torch.cuda.is_available() else 'cpu')"
      ],
      "execution_count": 5,
      "outputs": []
    },
    {
      "cell_type": "code",
      "metadata": {
        "id": "9Sh-Mw6cAIcH"
      },
      "source": [
        "## YOUR testing code\n",
        "def prepareDataset():\n",
        "    x_test = pd.read_csv('/content/test.data.txt', sep = '\\t',header = None, names = [\"word\",\"pos\",\"P1P2\" , \"sentence1\", \"sentence2\"])\n",
        "    a = x_test[\"P1P2\"].str.split(pat = \"-\",expand = True)\n",
        "    a.columns = ['P1','P2']\n",
        "    x_test = x_test.join(a)\n",
        "    x_test.to_csv('TestData.csv')\n",
        "prepareDataset()"
      ],
      "execution_count": 6,
      "outputs": []
    },
    {
      "cell_type": "code",
      "metadata": {
        "id": "-hvqoQdBAgC_"
      },
      "source": [
        "spacy_tokens = spacy.load('en')\n",
        "\n",
        "def tokenizer(sentence):\n",
        "    return [token.text for token in spacy_tokens.tokenizer(sentence)]\n",
        "\n",
        "with open(os.path.join(\"MODEL\", \"vocab\"), 'rb') as f:\n",
        "  sentence = dill.load(f)\n",
        "\n",
        "position = Field(sequential=False,use_vocab=False)\n",
        "fields = {'sentence1' : ('sentence1' , sentence), 'sentence2' : ('sentence2' , sentence), 'word' : ('word' , sentence) , 'P1' : ('P1',position), 'P2' : ('P2',position) }\n",
        "test_data = TabularDataset.splits(path = './' , test = 'TestData.csv'  , format = 'csv' , fields= fields)\n",
        "test_iter  = BucketIterator.splits(test_data, batch_size=32 , device = 'cpu' ,sort = False , repeat = False, shuffle = False , sort_key = None)[0]"
      ],
      "execution_count": 7,
      "outputs": []
    },
    {
      "cell_type": "code",
      "metadata": {
        "id": "qyihLBN8B9iY"
      },
      "source": [
        "class LSTMModel(nn.Module):\n",
        "  def __init__(self, embed_dim, hidden, n_layers):\n",
        "        super(LSTMModel, self).__init__()\n",
        "        self.hidden = hidden\n",
        "        self.n_layers = n_layers\n",
        "        self.embed = nn.Embedding.from_pretrained(sentence.vocab.vectors, freeze=False)\n",
        "        self.lstm = nn.LSTM(embed_dim, hidden,num_layers=n_layers,bidirectional=False)#batch_first = True #dropout=0.2\n",
        "        \n",
        "  def forward(self, input):\n",
        "  \n",
        "        input.sentence1 = input.sentence1.to(device)\n",
        "        input.sentence2 = input.sentence2.to(device)\n",
        "        input.P1 = input.P1.to(device)\n",
        "        input.P2 = input.P2.to(device)\n",
        "        embed_out = self.embed(input.sentence1).to(device)\n",
        "        # embed_out = self.dropout(embed_out).to(device)\n",
        "        hidden_in = torch.zeros(self.n_layers ,input.sentence1.shape[1], self.hidden).to(device)\n",
        "        cell_in = torch.zeros( self.n_layers , input.sentence1.shape[1], self.hidden).to(device)\n",
        "        out_lstm, (hidden_out, cell_out) = self.lstm(embed_out,(hidden_in, cell_in))\n",
        "        \n",
        "        embed_out2 = self.embed(input.sentence2).to(device)\n",
        "        # embed_out2 = self.dropout(embed_out2).to(device)\n",
        "        hidden_in2 = torch.zeros(self.n_layers  ,input.sentence2.shape[1], self.hidden).to(device)\n",
        "        cell_in2 = torch.zeros( self.n_layers , input.sentence2.shape[1], self.hidden).to(device)\n",
        "        out_lstm2, (hidden_out2, cell_out2) = self.lstm(embed_out2,(hidden_in2, cell_in2))\n",
        "        \n",
        "        dim_1 = out_lstm[input.P1,torch.arange(out_lstm.size(1))]\n",
        "        dim_2 = out_lstm2[input.P2,torch.arange(out_lstm2.size(1))]\n",
        "        \n",
        "        cos = nn.CosineSimilarity(dim=1, eps=1e-8)\n",
        "        output = cos(dim_1, dim_2)\n",
        "        \n",
        "        output = torch.sigmoid(output)\n",
        "\n",
        "        return output"
      ],
      "execution_count": 8,
      "outputs": []
    },
    {
      "cell_type": "code",
      "metadata": {
        "id": "1Dq7lZC1Dbpd"
      },
      "source": [
        "emb_dim = sentence.vocab.vectors.shape[1]\n",
        "hidden = 512\n",
        "layers = 2\n",
        "model = LSTMModel(emb_dim,hidden,layers)"
      ],
      "execution_count": 9,
      "outputs": []
    },
    {
      "cell_type": "code",
      "metadata": {
        "id": "wPT5hPtgCSZA"
      },
      "source": [
        "loadingModel = torch.load(\"/content/MODEL/Model.pt\", map_location=device)\n",
        "\n",
        "model.load_state_dict(loadingModel['model_dict'])\n",
        "model = model.to(device)\n",
        "\n",
        "model.eval()\n",
        "test_iter.init_epoch()\n",
        "answers = []\n",
        "\n",
        "with torch.no_grad():\n",
        "    for batch_idx, batch in enumerate(test_iter):\n",
        "        answer = model(batch)\n",
        "        answer = np.array((answer>=0.5).int())\n",
        "        answer = answer.tolist()\n",
        "        answers.append(answer)\n",
        "        \n",
        "    Answers = [ans for answer in answers for ans in answer]\n",
        "\n",
        "output = pd.Series(Answers) \n",
        "output = output.apply(lambda x: 'F' if x == 0 else 'T')\n",
        "output.to_csv(\"output.txt\", header=None, index=None)"
      ],
      "execution_count": 10,
      "outputs": []
    },
    {
      "cell_type": "code",
      "metadata": {
        "id": "0-IlAUkv7s1C",
        "colab": {
          "base_uri": "https://localhost:8080/"
        },
        "outputId": "6d50a22e-b585-43aa-c3c7-25c46d0cff6b"
      },
      "source": [
        "## DONT CHANGE THIS CELL\n",
        "# Your testing code must produce a file output.txt with predictions as T and F in each line\n",
        "\n",
        "## Final Evaluation \n",
        "# this is currently the same as dev.gold.txt\n",
        "!wget http://www.cse.iitd.ac.in/~mausam/courses/col772/autumn2021/A3/test.gold.txt\n",
        "correct, total = 0., 0.\n",
        "for prediction, gold in zip(open('output.txt'), open('test.gold.txt')):\n",
        "  prediction, gold = prediction.strip(), gold.strip()\n",
        "  total += 1\n",
        "  if prediction == gold:\n",
        "    correct += 1\n",
        "\n",
        "## Report this as the final validation performance \n",
        "print('Performance = ', (correct/total))"
      ],
      "execution_count": 11,
      "outputs": [
        {
          "output_type": "stream",
          "name": "stdout",
          "text": [
            "--2021-10-11 14:39:09--  http://www.cse.iitd.ac.in/~mausam/courses/col772/autumn2021/A3/test.gold.txt\n",
            "Resolving www.cse.iitd.ac.in (www.cse.iitd.ac.in)... 103.27.9.152\n",
            "Connecting to www.cse.iitd.ac.in (www.cse.iitd.ac.in)|103.27.9.152|:80... connected.\n",
            "HTTP request sent, awaiting response... 301 Moved Permanently\n",
            "Location: https://www.cse.iitd.ac.in/~mausam/courses/col772/autumn2021/A3/test.gold.txt [following]\n",
            "--2021-10-11 14:39:10--  https://www.cse.iitd.ac.in/~mausam/courses/col772/autumn2021/A3/test.gold.txt\n",
            "Connecting to www.cse.iitd.ac.in (www.cse.iitd.ac.in)|103.27.9.152|:443... connected.\n",
            "HTTP request sent, awaiting response... 200 OK\n",
            "Length: 1276 (1.2K) [text/plain]\n",
            "Saving to: ‘test.gold.txt’\n",
            "\n",
            "test.gold.txt       100%[===================>]   1.25K  --.-KB/s    in 0s      \n",
            "\n",
            "2021-10-11 14:39:11 (62.4 MB/s) - ‘test.gold.txt’ saved [1276/1276]\n",
            "\n",
            "Performance =  0.6442006269592476\n"
          ]
        }
      ]
    }
  ]
}